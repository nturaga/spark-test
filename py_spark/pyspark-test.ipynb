{
 "cells": [
  {
   "cell_type": "code",
   "execution_count": 3,
   "metadata": {},
   "outputs": [],
   "source": [
    "import pyspark"
   ]
  },
  {
   "cell_type": "code",
   "execution_count": 4,
   "metadata": {},
   "outputs": [],
   "source": [
    "from pyspark.sql import SparkSession"
   ]
  },
  {
   "cell_type": "markdown",
   "metadata": {},
   "source": [
    "### Create a spark session (this works as the interface to the cluster)\n",
    "\n",
    "A local cluster is started"
   ]
  },
  {
   "cell_type": "code",
   "execution_count": 5,
   "metadata": {},
   "outputs": [],
   "source": [
    "spark = SparkSession.builder.getOrCreate()"
   ]
  },
  {
   "cell_type": "code",
   "execution_count": 6,
   "metadata": {},
   "outputs": [
    {
     "data": {
      "text/html": [
       "\n",
       "            <div>\n",
       "                <p><b>SparkSession - in-memory</b></p>\n",
       "                \n",
       "        <div>\n",
       "            <p><b>SparkContext</b></p>\n",
       "\n",
       "            <p><a href=\"http://192.168.200.116:4040\">Spark UI</a></p>\n",
       "\n",
       "            <dl>\n",
       "              <dt>Version</dt>\n",
       "                <dd><code>v2.4.3</code></dd>\n",
       "              <dt>Master</dt>\n",
       "                <dd><code>local[*]</code></dd>\n",
       "              <dt>AppName</dt>\n",
       "                <dd><code>pyspark-shell</code></dd>\n",
       "            </dl>\n",
       "        </div>\n",
       "        \n",
       "            </div>\n",
       "        "
      ],
      "text/plain": [
       "<pyspark.sql.session.SparkSession at 0x111dbb8d0>"
      ]
     },
     "execution_count": 6,
     "metadata": {},
     "output_type": "execute_result"
    }
   ],
   "source": [
    "spark"
   ]
  },
  {
   "cell_type": "markdown",
   "metadata": {},
   "source": [
    "## What data is in my cluster"
   ]
  },
  {
   "cell_type": "code",
   "execution_count": 7,
   "metadata": {},
   "outputs": [
    {
     "name": "stdout",
     "output_type": "stream",
     "text": [
      "[]\n"
     ]
    }
   ],
   "source": [
    "print(spark.catalog.listTables())"
   ]
  },
  {
   "cell_type": "code",
   "execution_count": 8,
   "metadata": {},
   "outputs": [],
   "source": [
    "range100 = spark.range(100)"
   ]
  },
  {
   "cell_type": "code",
   "execution_count": 13,
   "metadata": {},
   "outputs": [
    {
     "name": "stdout",
     "output_type": "stream",
     "text": [
      "[Row(id=0), Row(id=1), Row(id=2), Row(id=3), Row(id=4), Row(id=5), Row(id=6), Row(id=7), Row(id=8), Row(id=9), Row(id=10), Row(id=11), Row(id=12), Row(id=13), Row(id=14), Row(id=15), Row(id=16), Row(id=17), Row(id=18), Row(id=19), Row(id=20), Row(id=21), Row(id=22), Row(id=23), Row(id=24), Row(id=25), Row(id=26), Row(id=27), Row(id=28), Row(id=29), Row(id=30), Row(id=31), Row(id=32), Row(id=33), Row(id=34), Row(id=35), Row(id=36), Row(id=37), Row(id=38), Row(id=39), Row(id=40), Row(id=41), Row(id=42), Row(id=43), Row(id=44), Row(id=45), Row(id=46), Row(id=47), Row(id=48), Row(id=49), Row(id=50), Row(id=51), Row(id=52), Row(id=53), Row(id=54), Row(id=55), Row(id=56), Row(id=57), Row(id=58), Row(id=59), Row(id=60), Row(id=61), Row(id=62), Row(id=63), Row(id=64), Row(id=65), Row(id=66), Row(id=67), Row(id=68), Row(id=69), Row(id=70), Row(id=71), Row(id=72), Row(id=73), Row(id=74), Row(id=75), Row(id=76), Row(id=77), Row(id=78), Row(id=79), Row(id=80), Row(id=81), Row(id=82), Row(id=83), Row(id=84), Row(id=85), Row(id=86), Row(id=87), Row(id=88), Row(id=89), Row(id=90), Row(id=91), Row(id=92), Row(id=93), Row(id=94), Row(id=95), Row(id=96), Row(id=97), Row(id=98), Row(id=99)]\n"
     ]
    }
   ],
   "source": [
    "print(range100.collect())"
   ]
  },
  {
   "cell_type": "code",
   "execution_count": 16,
   "metadata": {},
   "outputs": [],
   "source": [
    "import pandas as pd\n",
    "import numpy as np"
   ]
  },
  {
   "cell_type": "code",
   "execution_count": 18,
   "metadata": {},
   "outputs": [
    {
     "data": {
      "text/html": [
       "<div>\n",
       "<style scoped>\n",
       "    .dataframe tbody tr th:only-of-type {\n",
       "        vertical-align: middle;\n",
       "    }\n",
       "\n",
       "    .dataframe tbody tr th {\n",
       "        vertical-align: top;\n",
       "    }\n",
       "\n",
       "    .dataframe thead th {\n",
       "        text-align: right;\n",
       "    }\n",
       "</style>\n",
       "<table border=\"1\" class=\"dataframe\">\n",
       "  <thead>\n",
       "    <tr style=\"text-align: right;\">\n",
       "      <th></th>\n",
       "      <th>0</th>\n",
       "    </tr>\n",
       "  </thead>\n",
       "  <tbody>\n",
       "    <tr>\n",
       "      <td>0</td>\n",
       "      <td>0.263898</td>\n",
       "    </tr>\n",
       "    <tr>\n",
       "      <td>1</td>\n",
       "      <td>0.954463</td>\n",
       "    </tr>\n",
       "    <tr>\n",
       "      <td>2</td>\n",
       "      <td>0.333914</td>\n",
       "    </tr>\n",
       "    <tr>\n",
       "      <td>3</td>\n",
       "      <td>0.936705</td>\n",
       "    </tr>\n",
       "    <tr>\n",
       "      <td>4</td>\n",
       "      <td>0.807078</td>\n",
       "    </tr>\n",
       "  </tbody>\n",
       "</table>\n",
       "</div>"
      ],
      "text/plain": [
       "          0\n",
       "0  0.263898\n",
       "1  0.954463\n",
       "2  0.333914\n",
       "3  0.936705\n",
       "4  0.807078"
      ]
     },
     "execution_count": 18,
     "metadata": {},
     "output_type": "execute_result"
    }
   ],
   "source": [
    "pd_temp = pd.DataFrame(np.random.random(10))\n",
    "pd_temp.head()"
   ]
  },
  {
   "cell_type": "markdown",
   "metadata": {},
   "source": [
    "### Add a data frame to the Spark cluster"
   ]
  },
  {
   "cell_type": "code",
   "execution_count": 19,
   "metadata": {},
   "outputs": [],
   "source": [
    "spark_df = spark.createDataFrame(pd_temp)"
   ]
  },
  {
   "cell_type": "code",
   "execution_count": 20,
   "metadata": {},
   "outputs": [
    {
     "data": {
      "text/plain": [
       "DataFrame[0: double]"
      ]
     },
     "execution_count": 20,
     "metadata": {},
     "output_type": "execute_result"
    }
   ],
   "source": [
    "spark_df"
   ]
  },
  {
   "cell_type": "code",
   "execution_count": 21,
   "metadata": {},
   "outputs": [
    {
     "data": {
      "text/plain": [
       "[]"
      ]
     },
     "execution_count": 21,
     "metadata": {},
     "output_type": "execute_result"
    }
   ],
   "source": [
    "spark.catalog.listTables()"
   ]
  },
  {
   "cell_type": "code",
   "execution_count": 26,
   "metadata": {},
   "outputs": [],
   "source": [
    "## Register the spark_df with the table name \"temp\"\n",
    "spark_df.createOrReplaceTempView(\"temp\")"
   ]
  },
  {
   "cell_type": "code",
   "execution_count": 27,
   "metadata": {},
   "outputs": [
    {
     "data": {
      "text/plain": [
       "[Table(name='temp', database=None, description=None, tableType='TEMPORARY', isTemporary=True)]"
      ]
     },
     "execution_count": 27,
     "metadata": {},
     "output_type": "execute_result"
    }
   ],
   "source": [
    "spark.catalog.listTables()"
   ]
  },
  {
   "cell_type": "code",
   "execution_count": 28,
   "metadata": {},
   "outputs": [],
   "source": [
    "range100.createOrReplaceTempView(\"range\")"
   ]
  },
  {
   "cell_type": "code",
   "execution_count": 29,
   "metadata": {},
   "outputs": [
    {
     "data": {
      "text/plain": [
       "[Table(name='range', database=None, description=None, tableType='TEMPORARY', isTemporary=True),\n",
       " Table(name='temp', database=None, description=None, tableType='TEMPORARY', isTemporary=True)]"
      ]
     },
     "execution_count": 29,
     "metadata": {},
     "output_type": "execute_result"
    }
   ],
   "source": [
    "spark.catalog.listTables()"
   ]
  },
  {
   "cell_type": "markdown",
   "metadata": {},
   "source": [
    "## Read a csv file directly into Spark "
   ]
  },
  {
   "cell_type": "code",
   "execution_count": 33,
   "metadata": {},
   "outputs": [
    {
     "name": "stdout",
     "output_type": "stream",
     "text": [
      "  % Total    % Received % Xferd  Average Speed   Time    Time     Time  Current\n",
      "                                 Dload  Upload   Total   Spent    Left  Speed\n",
      "100  7367  100  7367    0     0  10172      0 --:--:-- --:--:-- --:--:-- 10161\n"
     ]
    }
   ],
   "source": [
    "! curl -O https://projects.fivethirtyeight.com/soccer-api/international/spi_global_rankings_intl.csv"
   ]
  },
  {
   "cell_type": "code",
   "execution_count": 36,
   "metadata": {},
   "outputs": [],
   "source": [
    "soccer = spark.read.csv(\"spi_global_rankings_intl.csv\", header=True)"
   ]
  },
  {
   "cell_type": "code",
   "execution_count": 37,
   "metadata": {},
   "outputs": [
    {
     "name": "stdout",
     "output_type": "stream",
     "text": [
      "+----+-----------+--------+----+----+-----+\n",
      "|rank|       name|  confed| off| def|  spi|\n",
      "+----+-----------+--------+----+----+-----+\n",
      "|   1|      Spain|    UEFA|3.47|0.54|91.85|\n",
      "|   2|     Brazil|CONMEBOL|2.96|0.32|91.72|\n",
      "|   3|    Germany|    UEFA|3.18|0.56|89.65|\n",
      "|   4|    Belgium|    UEFA|3.02|0.56|88.43|\n",
      "|   5|     France|    UEFA|2.68|0.51|86.33|\n",
      "|   6|    England|    UEFA|2.56|0.48|85.68|\n",
      "|   7|  Argentina|CONMEBOL|2.47|0.46|85.13|\n",
      "|   8|Netherlands|    UEFA|2.71|0.61|84.74|\n",
      "|   9|    Uruguay|CONMEBOL|2.35|0.49|83.14|\n",
      "|  10|   Colombia|CONMEBOL|2.22|0.42|82.92|\n",
      "|  11|      Italy|    UEFA|2.21|0.49|81.31|\n",
      "|  12|   Portugal|    UEFA|2.28|0.56|80.77|\n",
      "|  13|Switzerland|    UEFA|2.48| 0.7|80.49|\n",
      "|  14|    Croatia|    UEFA| 2.4|0.79|77.56|\n",
      "|  15|      Chile|CONMEBOL|2.23|0.68|77.45|\n",
      "|  16|     Mexico|CONCACAF|2.27|0.74|76.77|\n",
      "|  17|     Sweden|    UEFA|2.14| 0.7|75.79|\n",
      "|  18|    Denmark|    UEFA| 2.1|0.72|74.75|\n",
      "|  19|     Serbia|    UEFA|2.14|0.81|73.41|\n",
      "|  20|     Russia|    UEFA|2.09|0.78|73.17|\n",
      "+----+-----------+--------+----+----+-----+\n",
      "only showing top 20 rows\n",
      "\n"
     ]
    }
   ],
   "source": [
    "soccer.show()"
   ]
  },
  {
   "cell_type": "code",
   "execution_count": 38,
   "metadata": {},
   "outputs": [
    {
     "data": {
      "text/plain": [
       "[Table(name='range', database=None, description=None, tableType='TEMPORARY', isTemporary=True),\n",
       " Table(name='temp', database=None, description=None, tableType='TEMPORARY', isTemporary=True)]"
      ]
     },
     "execution_count": 38,
     "metadata": {},
     "output_type": "execute_result"
    }
   ],
   "source": [
    "spark.catalog.listTables()"
   ]
  },
  {
   "cell_type": "code",
   "execution_count": 39,
   "metadata": {},
   "outputs": [],
   "source": [
    "soccer.createOrReplaceTempView(\"soccer\")"
   ]
  },
  {
   "cell_type": "code",
   "execution_count": 40,
   "metadata": {},
   "outputs": [
    {
     "data": {
      "text/plain": [
       "[Table(name='range', database=None, description=None, tableType='TEMPORARY', isTemporary=True),\n",
       " Table(name='soccer', database=None, description=None, tableType='TEMPORARY', isTemporary=True),\n",
       " Table(name='temp', database=None, description=None, tableType='TEMPORARY', isTemporary=True)]"
      ]
     },
     "execution_count": 40,
     "metadata": {},
     "output_type": "execute_result"
    }
   ],
   "source": [
    "spark.catalog.listTables()"
   ]
  },
  {
   "cell_type": "markdown",
   "metadata": {},
   "source": [
    "# HAIL "
   ]
  },
  {
   "cell_type": "code",
   "execution_count": 2,
   "metadata": {},
   "outputs": [
    {
     "name": "stdout",
     "output_type": "stream",
     "text": [
      "Requirement already satisfied: hail in /usr/local/lib/python3.7/site-packages (0.2.20)\n",
      "Requirement already satisfied: python-json-logger==0.1.11 in /usr/local/lib/python3.7/site-packages (from hail) (0.1.11)\n",
      "Requirement already satisfied: pyspark<2.4.2,>=2.4 in /usr/local/lib/python3.7/site-packages (from hail) (2.4.1)\n",
      "Requirement already satisfied: bokeh<1.3,>1.1 in /usr/local/lib/python3.7/site-packages (from hail) (1.2.0)\n",
      "Requirement already satisfied: PyJWT in /usr/local/lib/python3.7/site-packages (from hail) (1.7.1)\n",
      "Requirement already satisfied: tabulate==0.8.3 in /usr/local/lib/python3.7/site-packages (from hail) (0.8.3)\n",
      "Requirement already satisfied: ipykernel<5 in /usr/local/lib/python3.7/site-packages (from hail) (4.10.1)\n",
      "Requirement already satisfied: requests<2.21.1,>=2.21.0 in /usr/local/lib/python3.7/site-packages (from hail) (2.21.0)\n",
      "Requirement already satisfied: gcsfs==0.2.1 in /usr/local/lib/python3.7/site-packages (from hail) (0.2.1)\n",
      "Requirement already satisfied: numpy<2 in /usr/local/lib/python3.7/site-packages (from hail) (1.17.1)\n",
      "Requirement already satisfied: aiohttp in /usr/local/lib/python3.7/site-packages (from hail) (3.5.4)\n",
      "Requirement already satisfied: pandas<0.24,>0.22 in /usr/local/lib/python3.7/site-packages (from hail) (0.23.4)\n",
      "Requirement already satisfied: decorator<5 in /usr/local/lib/python3.7/site-packages (from hail) (4.4.0)\n",
      "Requirement already satisfied: hurry.filesize==0.9 in /usr/local/lib/python3.7/site-packages (from hail) (0.9)\n",
      "Requirement already satisfied: nest-asyncio in /usr/local/lib/python3.7/site-packages (from hail) (1.2.0)\n",
      "Requirement already satisfied: parsimonious<0.9 in /usr/local/lib/python3.7/site-packages (from hail) (0.8.1)\n",
      "Requirement already satisfied: scipy<1.4,>1.2 in /usr/local/lib/python3.7/site-packages (from hail) (1.3.1)\n",
      "Requirement already satisfied: py4j==0.10.7 in /usr/local/lib/python3.7/site-packages (from pyspark<2.4.2,>=2.4->hail) (0.10.7)\n",
      "Requirement already satisfied: six>=1.5.2 in /usr/local/lib/python3.7/site-packages (from bokeh<1.3,>1.1->hail) (1.12.0)\n",
      "Requirement already satisfied: python-dateutil>=2.1 in /usr/local/lib/python3.7/site-packages (from bokeh<1.3,>1.1->hail) (2.8.0)\n",
      "Requirement already satisfied: PyYAML>=3.10 in /usr/local/lib/python3.7/site-packages (from bokeh<1.3,>1.1->hail) (5.1.2)\n",
      "Requirement already satisfied: pillow>=4.0 in /usr/local/lib/python3.7/site-packages (from bokeh<1.3,>1.1->hail) (6.1.0)\n",
      "Requirement already satisfied: Jinja2>=2.7 in /usr/local/lib/python3.7/site-packages (from bokeh<1.3,>1.1->hail) (2.10.1)\n",
      "Requirement already satisfied: tornado>=4.3 in /usr/local/lib/python3.7/site-packages (from bokeh<1.3,>1.1->hail) (6.0.3)\n",
      "Requirement already satisfied: packaging>=16.8 in /usr/local/lib/python3.7/site-packages (from bokeh<1.3,>1.1->hail) (19.1)\n",
      "Requirement already satisfied: ipython>=4.0.0 in /usr/local/lib/python3.7/site-packages (from ipykernel<5->hail) (7.8.0)\n",
      "Requirement already satisfied: jupyter-client in /usr/local/lib/python3.7/site-packages (from ipykernel<5->hail) (5.3.1)\n",
      "Requirement already satisfied: traitlets>=4.1.0 in /usr/local/lib/python3.7/site-packages (from ipykernel<5->hail) (4.3.2)\n",
      "Requirement already satisfied: certifi>=2017.4.17 in /usr/local/lib/python3.7/site-packages (from requests<2.21.1,>=2.21.0->hail) (2019.6.16)\n",
      "Requirement already satisfied: idna<2.9,>=2.5 in /usr/local/lib/python3.7/site-packages (from requests<2.21.1,>=2.21.0->hail) (2.8)\n",
      "Requirement already satisfied: urllib3<1.25,>=1.21.1 in /usr/local/lib/python3.7/site-packages (from requests<2.21.1,>=2.21.0->hail) (1.24.3)\n",
      "Requirement already satisfied: chardet<3.1.0,>=3.0.2 in /usr/local/lib/python3.7/site-packages (from requests<2.21.1,>=2.21.0->hail) (3.0.4)\n",
      "Requirement already satisfied: google-auth>=1.2 in /usr/local/lib/python3.7/site-packages (from gcsfs==0.2.1->hail) (1.6.3)\n",
      "Requirement already satisfied: google-auth-oauthlib in /usr/local/lib/python3.7/site-packages (from gcsfs==0.2.1->hail) (0.4.0)\n",
      "Requirement already satisfied: async-timeout<4.0,>=3.0 in /usr/local/lib/python3.7/site-packages (from aiohttp->hail) (3.0.1)\n",
      "Requirement already satisfied: multidict<5.0,>=4.0 in /usr/local/lib/python3.7/site-packages (from aiohttp->hail) (4.5.2)\n",
      "Requirement already satisfied: yarl<2.0,>=1.0 in /usr/local/lib/python3.7/site-packages (from aiohttp->hail) (1.3.0)\n",
      "Requirement already satisfied: attrs>=17.3.0 in /usr/local/lib/python3.7/site-packages (from aiohttp->hail) (19.1.0)\n",
      "Requirement already satisfied: pytz>=2011k in /usr/local/lib/python3.7/site-packages (from pandas<0.24,>0.22->hail) (2019.2)\n",
      "Requirement already satisfied: setuptools in /usr/local/lib/python3.7/site-packages (from hurry.filesize==0.9->hail) (40.8.0)\n",
      "Requirement already satisfied: MarkupSafe>=0.23 in /usr/local/lib/python3.7/site-packages (from Jinja2>=2.7->bokeh<1.3,>1.1->hail) (1.1.1)\n",
      "Requirement already satisfied: pyparsing>=2.0.2 in /usr/local/lib/python3.7/site-packages (from packaging>=16.8->bokeh<1.3,>1.1->hail) (2.4.2)\n",
      "Requirement already satisfied: pexpect; sys_platform != \"win32\" in /usr/local/lib/python3.7/site-packages (from ipython>=4.0.0->ipykernel<5->hail) (4.7.0)\n",
      "Requirement already satisfied: prompt-toolkit<2.1.0,>=2.0.0 in /usr/local/lib/python3.7/site-packages (from ipython>=4.0.0->ipykernel<5->hail) (2.0.9)\n",
      "Requirement already satisfied: backcall in /usr/local/lib/python3.7/site-packages (from ipython>=4.0.0->ipykernel<5->hail) (0.1.0)\n",
      "Requirement already satisfied: pickleshare in /usr/local/lib/python3.7/site-packages (from ipython>=4.0.0->ipykernel<5->hail) (0.7.5)\n",
      "Requirement already satisfied: jedi>=0.10 in /usr/local/lib/python3.7/site-packages (from ipython>=4.0.0->ipykernel<5->hail) (0.15.1)\n",
      "Requirement already satisfied: appnope; sys_platform == \"darwin\" in /usr/local/lib/python3.7/site-packages (from ipython>=4.0.0->ipykernel<5->hail) (0.1.0)\n",
      "Requirement already satisfied: pygments in /usr/local/lib/python3.7/site-packages (from ipython>=4.0.0->ipykernel<5->hail) (2.4.2)\n",
      "Requirement already satisfied: pyzmq>=13 in /usr/local/lib/python3.7/site-packages (from jupyter-client->ipykernel<5->hail) (18.1.0)\n",
      "Requirement already satisfied: jupyter-core in /usr/local/lib/python3.7/site-packages (from jupyter-client->ipykernel<5->hail) (4.5.0)\n",
      "Requirement already satisfied: ipython-genutils in /usr/local/lib/python3.7/site-packages (from traitlets>=4.1.0->ipykernel<5->hail) (0.2.0)\n",
      "Requirement already satisfied: pyasn1-modules>=0.2.1 in /usr/local/lib/python3.7/site-packages (from google-auth>=1.2->gcsfs==0.2.1->hail) (0.2.6)\n",
      "Requirement already satisfied: rsa>=3.1.4 in /usr/local/lib/python3.7/site-packages (from google-auth>=1.2->gcsfs==0.2.1->hail) (4.0)\n",
      "Requirement already satisfied: cachetools>=2.0.0 in /usr/local/lib/python3.7/site-packages (from google-auth>=1.2->gcsfs==0.2.1->hail) (3.1.1)\n",
      "Requirement already satisfied: requests-oauthlib>=0.7.0 in /usr/local/lib/python3.7/site-packages (from google-auth-oauthlib->gcsfs==0.2.1->hail) (1.2.0)\n",
      "Requirement already satisfied: ptyprocess>=0.5 in /usr/local/lib/python3.7/site-packages (from pexpect; sys_platform != \"win32\"->ipython>=4.0.0->ipykernel<5->hail) (0.6.0)\n",
      "Requirement already satisfied: wcwidth in /usr/local/lib/python3.7/site-packages (from prompt-toolkit<2.1.0,>=2.0.0->ipython>=4.0.0->ipykernel<5->hail) (0.1.7)\n",
      "Requirement already satisfied: parso>=0.5.0 in /usr/local/lib/python3.7/site-packages (from jedi>=0.10->ipython>=4.0.0->ipykernel<5->hail) (0.5.1)\n",
      "Requirement already satisfied: pyasn1<0.5.0,>=0.4.6 in /usr/local/lib/python3.7/site-packages (from pyasn1-modules>=0.2.1->google-auth>=1.2->gcsfs==0.2.1->hail) (0.4.7)\n",
      "Requirement already satisfied: oauthlib>=3.0.0 in /usr/local/lib/python3.7/site-packages (from requests-oauthlib>=0.7.0->google-auth-oauthlib->gcsfs==0.2.1->hail) (3.1.0)\n"
     ]
    }
   ],
   "source": [
    "! pip3 install hail"
   ]
  },
  {
   "cell_type": "code",
   "execution_count": 4,
   "metadata": {},
   "outputs": [
    {
     "ename": "ModuleNotFoundError",
     "evalue": "No module named 'hail'",
     "output_type": "error",
     "traceback": [
      "\u001b[0;31m---------------------------------------------------------------------------\u001b[0m",
      "\u001b[0;31mModuleNotFoundError\u001b[0m                       Traceback (most recent call last)",
      "\u001b[0;32m<ipython-input-4-c64c63fd19c2>\u001b[0m in \u001b[0;36m<module>\u001b[0;34m\u001b[0m\n\u001b[0;32m----> 1\u001b[0;31m \u001b[0;32mimport\u001b[0m \u001b[0mhail\u001b[0m \u001b[0;32mas\u001b[0m \u001b[0mhl\u001b[0m\u001b[0;34m\u001b[0m\u001b[0;34m\u001b[0m\u001b[0m\n\u001b[0m\u001b[1;32m      2\u001b[0m \u001b[0mmt\u001b[0m \u001b[0;34m=\u001b[0m \u001b[0mhl\u001b[0m\u001b[0;34m.\u001b[0m\u001b[0mbalding_nichols_model\u001b[0m\u001b[0;34m(\u001b[0m\u001b[0mn_populations\u001b[0m\u001b[0;34m=\u001b[0m\u001b[0;36m3\u001b[0m\u001b[0;34m,\u001b[0m \u001b[0mn_samples\u001b[0m\u001b[0;34m=\u001b[0m\u001b[0;36m50\u001b[0m\u001b[0;34m,\u001b[0m \u001b[0mn_variants\u001b[0m\u001b[0;34m=\u001b[0m\u001b[0;36m100\u001b[0m\u001b[0;34m)\u001b[0m\u001b[0;34m\u001b[0m\u001b[0;34m\u001b[0m\u001b[0m\n\u001b[1;32m      3\u001b[0m \u001b[0mmt\u001b[0m\u001b[0;34m.\u001b[0m\u001b[0mcount\u001b[0m\u001b[0;34m(\u001b[0m\u001b[0;34m)\u001b[0m\u001b[0;34m\u001b[0m\u001b[0;34m\u001b[0m\u001b[0m\n",
      "\u001b[0;31mModuleNotFoundError\u001b[0m: No module named 'hail'"
     ]
    }
   ],
   "source": [
    "import hail as hl\n",
    "mt = hl.balding_nichols_model(n_populations=3, n_samples=50, n_variants=100)\n",
    "mt.count()\n"
   ]
  },
  {
   "cell_type": "code",
   "execution_count": 5,
   "metadata": {},
   "outputs": [
    {
     "name": "stdout",
     "output_type": "stream",
     "text": [
      "appnope==0.1.0\r\n",
      "asn1crypto==0.24.0\r\n",
      "attrs==19.1.0\r\n",
      "backcall==0.1.0\r\n",
      "bagit==1.7.0\r\n",
      "bleach==3.1.0\r\n",
      "CacheControl==0.11.7\r\n",
      "certifi==2019.6.16\r\n",
      "cffi==1.12.3\r\n",
      "chardet==3.0.4\r\n",
      "cryptography==2.7\r\n",
      "cwltool==1.0.20190228155703\r\n",
      "decorator==4.4.0\r\n",
      "defusedxml==0.5.0\r\n",
      "entrypoints==0.3\r\n",
      "future==0.17.1\r\n",
      "html5lib==1.0.1\r\n",
      "idna==2.8\r\n",
      "ipykernel==5.1.2\r\n",
      "ipython==7.7.0\r\n",
      "ipython-genutils==0.2.0\r\n",
      "isodate==0.6.0\r\n",
      "jedi==0.15.1\r\n",
      "Jinja2==2.10.1\r\n",
      "joblib==0.13.2\r\n",
      "json5==0.8.5\r\n",
      "jsonschema==3.0.2\r\n",
      "jupyter-client==5.3.1\r\n",
      "jupyter-core==4.4.0\r\n",
      "jupyterlab==1.1.1\r\n",
      "jupyterlab-server==1.0.6\r\n",
      "keepalive==0.5\r\n",
      "lockfile==0.12.2\r\n",
      "lxml==4.4.1\r\n",
      "MarkupSafe==1.1.1\r\n",
      "mistune==0.8.4\r\n",
      "mypy-extensions==0.4.1\r\n",
      "nbconvert==5.6.0\r\n",
      "nbformat==4.4.0\r\n",
      "networkx==2.3\r\n",
      "notebook==6.0.1\r\n",
      "numpy==1.17.1\r\n",
      "pandas==0.25.1\r\n",
      "pandocfilters==1.4.2\r\n",
      "parso==0.5.1\r\n",
      "pexpect==4.7.0\r\n",
      "pickleshare==0.7.5\r\n",
      "prometheus-client==0.7.1\r\n",
      "prompt-toolkit==2.0.9\r\n",
      "prov==1.5.1\r\n",
      "psutil==5.6.3\r\n",
      "ptyprocess==0.6.0\r\n",
      "py4j==0.10.7\r\n",
      "pycparser==2.19\r\n",
      "pydotplus==2.0.2\r\n",
      "Pygments==2.4.2\r\n",
      "pyOpenSSL==19.0.0\r\n",
      "pyparsing==2.4.2\r\n",
      "pyrsistent==0.15.4\r\n",
      "PySocks==1.7.0\r\n",
      "pyspark==2.4.3\r\n",
      "python-dateutil==2.8.0\r\n",
      "pytz==2019.2\r\n",
      "PyYAML==5.1.2\r\n",
      "pyzmq==18.0.2\r\n",
      "rdflib==4.2.2\r\n",
      "rdflib-jsonld==0.4.0\r\n",
      "requests==2.22.0\r\n",
      "ruamel.yaml==0.15.77\r\n",
      "scandir==1.10.0\r\n",
      "schema-salad==4.1.20190305210046\r\n",
      "scikit-learn==0.21.3\r\n",
      "scipy==1.3.1\r\n",
      "Send2Trash==1.5.0\r\n",
      "shellescape==3.4.1\r\n",
      "six==1.12.0\r\n",
      "SPARQLWrapper==1.8.2\r\n",
      "terminado==0.8.2\r\n",
      "testpath==0.4.2\r\n",
      "tornado==6.0.3\r\n",
      "traitlets==4.3.2\r\n",
      "typing-extensions==3.7.4\r\n",
      "urllib3==1.25.3\r\n",
      "wcwidth==0.1.7\r\n",
      "webencodings==0.5.1\r\n"
     ]
    }
   ],
   "source": [
    "! pip freeze"
   ]
  },
  {
   "cell_type": "code",
   "execution_count": null,
   "metadata": {},
   "outputs": [],
   "source": []
  }
 ],
 "metadata": {
  "kernelspec": {
   "display_name": "Python 3",
   "language": "python",
   "name": "python3"
  },
  "language_info": {
   "codemirror_mode": {
    "name": "ipython",
    "version": 3
   },
   "file_extension": ".py",
   "mimetype": "text/x-python",
   "name": "python",
   "nbconvert_exporter": "python",
   "pygments_lexer": "ipython3",
   "version": "3.7.4"
  }
 },
 "nbformat": 4,
 "nbformat_minor": 2
}
